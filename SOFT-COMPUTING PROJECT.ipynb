{
  "nbformat": 4,
  "nbformat_minor": 0,
  "metadata": {
    "colab": {
      "provenance": []
    },
    "kernelspec": {
      "name": "python3",
      "display_name": "Python 3"
    },
    "language_info": {
      "name": "python"
    }
  },
  "cells": [
    {
      "cell_type": "code",
      "source": [
        "pip install pulp"
      ],
      "metadata": {
        "colab": {
          "base_uri": "https://localhost:8080/"
        },
        "id": "iHlqcavzLt1L",
        "outputId": "f4772de4-2eb7-417b-ad0e-60b50d464d0c"
      },
      "execution_count": null,
      "outputs": [
        {
          "output_type": "stream",
          "name": "stdout",
          "text": [
            "Looking in indexes: https://pypi.org/simple, https://us-python.pkg.dev/colab-wheels/public/simple/\n",
            "Collecting pulp\n",
            "  Downloading PuLP-2.7.0-py3-none-any.whl (14.3 MB)\n",
            "\u001b[2K     \u001b[90m━━━━━━━━━━━━━━━━━━━━━━━━━━━━━━━━━━━━━━━━\u001b[0m \u001b[32m14.3/14.3 MB\u001b[0m \u001b[31m74.3 MB/s\u001b[0m eta \u001b[36m0:00:00\u001b[0m\n",
            "\u001b[?25hInstalling collected packages: pulp\n",
            "Successfully installed pulp-2.7.0\n"
          ]
        }
      ]
    },
    {
      "cell_type": "code",
      "source": [
        "import pulp"
      ],
      "metadata": {
        "id": "s96PSG2HMJsS"
      },
      "execution_count": null,
      "outputs": []
    },
    {
      "cell_type": "code",
      "execution_count": null,
      "metadata": {
        "colab": {
          "base_uri": "https://localhost:8080/"
        },
        "id": "0e8WLgq4LVQk",
        "outputId": "ffbfef85-29ed-4b2c-f4f2-3f56ca752add"
      },
      "outputs": [
        {
          "output_type": "stream",
          "name": "stdout",
          "text": [
            "Solution:\n",
            "x[0,0] = 100.0\n",
            "x[0,1] = 0.0\n",
            "x[0,2] = 0.0\n",
            "x[0,3] = 0.0\n",
            "x[0,4] = 0.0\n",
            "x[1,0] = 100.0\n",
            "x[1,1] = 0.0\n",
            "x[1,2] = 0.0\n",
            "x[1,3] = 0.0\n",
            "x[1,4] = 0.0\n",
            "x[2,0] = 100.0\n",
            "x[2,1] = 0.0\n",
            "x[2,2] = 0.0\n",
            "x[2,3] = 0.0\n",
            "x[2,4] = 0.0\n",
            "x[3,0] = 0.0\n",
            "x[3,1] = 50.0\n",
            "x[3,2] = 0.0\n",
            "x[3,3] = 0.0\n",
            "x[3,4] = 50.0\n",
            "x[4,0] = 0.0\n",
            "x[4,1] = 0.0\n",
            "x[4,2] = 50.0\n",
            "x[4,3] = 50.0\n",
            "x[4,4] = 0.0\n",
            "Objective value: 110.0\n",
            "Minimum cost: 110.0\n"
          ]
        },
        {
          "output_type": "stream",
          "name": "stderr",
          "text": [
            "/usr/local/lib/python3.9/dist-packages/pulp/pulp.py:1352: UserWarning: Spaces are not permitted in the name. Converted to '_'\n",
            "  warnings.warn(\"Spaces are not permitted in the name. Converted to '_'\")\n"
          ]
        }
      ],
      "source": [
        "\n",
        "# Define the fuzzy sets\n",
        "A = [(0, 0), (1, 0.3), (2, 0.7), (3, 0.9), (4, 1)]\n",
        "B = [(0, 0), (1, 0.2), (2, 0.6), (3, 0.8), (4, 1)]\n",
        "C = [(0, 0), (1, 0.1), (2, 0.4), (3, 0.7), (4, 1)]\n",
        "\n",
        "# Define the cost matrix\n",
        "cost_matrix = [[8, 7, 9, 6, 5],\n",
        "               [4, 5, 11, 3, 10],\n",
        "               [6, 7, 4, 5, 9],\n",
        "               [8, 7, 5, 6, 3],\n",
        "               [10, 9, 7, 6, 11]]\n",
        "\n",
        "# Define the decision variables\n",
        "x = pulp.LpVariable.dicts('x', [(i, j) for i in range(5) for j in range(5)], lowBound=0, cat='Continuous')\n",
        "\n",
        "# Define the problem\n",
        "prob = pulp.LpProblem(\"Fuzzy Transportation Column Minimum Problem\", pulp.LpMinimize)\n",
        "\n",
        "# Define the objective function\n",
        "prob += pulp.lpSum([C[j][1]*x[(i,j)] for i in range(5) for j in range(5)])\n",
        "\n",
        "# Define the constraints\n",
        "for i in range(5):\n",
        "    for j in range(5):\n",
        "        prob += pulp.lpSum([A[i][1]*B[k][1]*x[(i,k)] for k in range(5)]) >= C[j][1]*x[(i,j)]\n",
        "\n",
        "# Define the capacity constraints\n",
        "for i in range(5):\n",
        "    prob += pulp.lpSum([x[(i,j)] for j in range(5)]) <= 100\n",
        "for j in range(5):\n",
        "    prob += pulp.lpSum([x[(i,j)] for i in range(5)]) >= 50\n",
        "\n",
        "# Solve the problem\n",
        "prob.solve()\n",
        "\n",
        "# Print the solution\n",
        "print(\"Solution:\")\n",
        "for i in range(5):\n",
        "    for j in range(5):\n",
        "        print(f\"x[{i},{j}] = {x[(i,j)].value()}\")\n",
        "\n",
        "print(\"Objective value:\", prob.objective.value())\n",
        "print('Minimum cost:', pulp.value(prob.objective))"
      ]
    }
  ]
}